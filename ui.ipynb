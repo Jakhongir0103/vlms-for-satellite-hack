{
 "cells": [
  {
   "cell_type": "code",
   "execution_count": 5,
   "metadata": {},
   "outputs": [],
   "source": [
    "from location import Location\n",
    "port_location = Location(name='Tweede Maasvlakte, Netherlands', tiles=None, examples=[(1, 5), (2, 6), (4, 10)], meters_per_pixel=0.5)\n",
    "port_location.load()"
   ]
  },
  {
   "cell_type": "code",
   "execution_count": 1,
   "metadata": {},
   "outputs": [
    {
     "name": "stderr",
     "output_type": "stream",
     "text": [
      "/home/miki/prg/satelite_imgs/.conda/lib/python3.11/site-packages/tqdm/auto.py:21: TqdmWarning: IProgress not found. Please update jupyter and ipywidgets. See https://ipywidgets.readthedocs.io/en/stable/user_install.html\n",
      "  from .autonotebook import tqdm as notebook_tqdm\n"
     ]
    },
    {
     "ename": "NameError",
     "evalue": "name 'port_location' is not defined",
     "output_type": "error",
     "traceback": [
      "\u001b[0;31m---------------------------------------------------------------------------\u001b[0m",
      "\u001b[0;31mNameError\u001b[0m                                 Traceback (most recent call last)",
      "Cell \u001b[0;32mIn[1], line 22\u001b[0m\n\u001b[1;32m     15\u001b[0m         btn2 \u001b[38;5;241m=\u001b[39m gr\u001b[38;5;241m.\u001b[39mButton(\u001b[38;5;124m\"\u001b[39m\u001b[38;5;124mNetherlands port\u001b[39m\u001b[38;5;124m\"\u001b[39m)\n\u001b[1;32m     16\u001b[0m gr\u001b[38;5;241m.\u001b[39mMarkdown(\u001b[38;5;124m\"\"\"\u001b[39m\n\u001b[1;32m     17\u001b[0m \u001b[38;5;124m<br>\u001b[39m\n\u001b[1;32m     18\u001b[0m \u001b[38;5;124m<br>\u001b[39m\n\u001b[1;32m     19\u001b[0m \n\u001b[1;32m     20\u001b[0m \u001b[38;5;124m## Examples\u001b[39m\n\u001b[1;32m     21\u001b[0m \u001b[38;5;124m\u001b[39m\u001b[38;5;124m\"\"\"\u001b[39m)\n\u001b[0;32m---> 22\u001b[0m \u001b[38;5;28;01mfor\u001b[39;00m example \u001b[38;5;129;01min\u001b[39;00m \u001b[43mport_location\u001b[49m\u001b[38;5;241m.\u001b[39mexamples:\n\u001b[1;32m     23\u001b[0m     \u001b[38;5;28;01mwith\u001b[39;00m gr\u001b[38;5;241m.\u001b[39mRow():\n\u001b[1;32m     24\u001b[0m         \u001b[38;5;28;01mwith\u001b[39;00m gr\u001b[38;5;241m.\u001b[39mColumn():\n",
      "\u001b[0;31mNameError\u001b[0m: name 'port_location' is not defined"
     ]
    }
   ],
   "source": [
    "import gradio as gr\n",
    "\n",
    "def greet(name, intensity):\n",
    "    return \"Hello, \" + name + \"!\" * int(intensity)\n",
    "\n",
    "with gr.Blocks() as demo:\n",
    "    with gr.Row():\n",
    "        with gr.Column():\n",
    "            gr.Markdown(\n",
    "                \"\"\"\n",
    "                ## How many crude oil tanks do you see?\n",
    "                \"\"\")\n",
    "\n",
    "        with gr.Column():\n",
    "            btn2 = gr.Button(\"Netherlands port\")\n",
    "    gr.Markdown(\"\"\"\n",
    "    <br>\n",
    "    <br>\n",
    "\n",
    "    ## Examples\n",
    "    \"\"\")\n",
    "    for example in port_location.examples:\n",
    "        with gr.Row():\n",
    "            with gr.Column():\n",
    "                gr.Image(port_location.tiles[example])\n",
    "            with gr.Column():\n",
    "                gr.Markdown(f\"There are **{example[0]}** crude oil tanks in this image.\")\n",
    "    with gr.Row():\n",
    "        gr.Button(\"Looks correct! Run on all 112 tiles\")\n",
    "\n",
    "\n",
    "\n",
    "demo.launch()\n"
   ]
  },
  {
   "cell_type": "code",
   "execution_count": null,
   "metadata": {},
   "outputs": [],
   "source": []
  }
 ],
 "metadata": {
  "kernelspec": {
   "display_name": "Python 3",
   "language": "python",
   "name": "python3"
  },
  "language_info": {
   "codemirror_mode": {
    "name": "ipython",
    "version": 3
   },
   "file_extension": ".py",
   "mimetype": "text/x-python",
   "name": "python",
   "nbconvert_exporter": "python",
   "pygments_lexer": "ipython3",
   "version": "3.11.10"
  }
 },
 "nbformat": 4,
 "nbformat_minor": 2
}
