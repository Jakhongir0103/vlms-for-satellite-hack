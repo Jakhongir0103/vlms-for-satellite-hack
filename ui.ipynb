{
 "cells": [
  {
   "cell_type": "code",
   "execution_count": null,
   "metadata": {},
   "outputs": [],
   "source": [
    "MIN_SIZE = 512\n",
    "TILE_SIZE = MIN_SIZE * 2\n",
    "\n",
    "from location import Location\n",
    "port_location = Location(name='Tweede Maasvlakte, Netherlands', tiles=None, examples=[(1, 5), (2, 6), (4, 10)], meters_per_pixel=0.5)\n",
    "port_location.load()\n"
   ]
  },
  {
   "cell_type": "code",
   "execution_count": null,
   "metadata": {},
   "outputs": [],
   "source": [
    "import asyncio\n",
    "\n",
    "def process_examples(prompt: str, tiles: list(Image), meters_per_pixel: float, examples: list(tuple(int, int))):\n",
    "    if prompt == 'How many ships?':\n",
    "        asyncio.sleep(2)\n",
    "        return [f\"There are {i} ships in this image\" for i, im in enumerate(tiles) if im is not None]"
   ]
  },
  {
   "cell_type": "code",
   "execution_count": 31,
   "metadata": {},
   "outputs": [
    {
     "name": "stdout",
     "output_type": "stream",
     "text": [
      "* Running on local URL:  http://127.0.0.1:7879\n",
      "\n",
      "To create a public link, set `share=True` in `launch()`.\n"
     ]
    },
    {
     "data": {
      "text/html": [
       "<div><iframe src=\"http://127.0.0.1:7879/\" width=\"100%\" height=\"500\" allow=\"autoplay; camera; microphone; clipboard-read; clipboard-write;\" frameborder=\"0\" allowfullscreen></iframe></div>"
      ],
      "text/plain": [
       "<IPython.core.display.HTML object>"
      ]
     },
     "metadata": {},
     "output_type": "display_data"
    },
    {
     "data": {
      "text/plain": []
     },
     "execution_count": 31,
     "metadata": {},
     "output_type": "execute_result"
    }
   ],
   "source": [
    "import gradio as gr\n",
    "\n",
    "\n",
    "with gr.Blocks() as demo:\n",
    "    with gr.Row():\n",
    "        with gr.Column():\n",
    "            gr.Markdown(\n",
    "                f\"\"\"\n",
    "                ## How many crude oil tanks do you see?\n",
    "                \"\"\")\n",
    "\n",
    "        with gr.Column():\n",
    "            btn2 = gr.Button(\"Netherlands port\")\n",
    "            gr.Markdown(f\"\"\"\n",
    "            This area is very big!\n",
    "            \"\"\")\n",
    "    gr.Markdown(\"\"\"\n",
    "    <br>\n",
    "    <br>\n",
    "\n",
    "    ## Examples\n",
    "    \"\"\")\n",
    "    for example in port_location.examples:\n",
    "        with gr.Row():\n",
    "            with gr.Column():\n",
    "                gr.Image(port_location.tiles[example])\n",
    "            with gr.Column():\n",
    "                gr.Markdown(f\"There are **{example[0]}** crude oil tanks in this image.\")\n",
    "    with gr.Row():\n",
    "        gr.Button(\"Looks correct! Run on all 112 tiles\")\n",
    "\n",
    "\n",
    "\n",
    "demo.launch()\n"
   ]
  },
  {
   "cell_type": "code",
   "execution_count": null,
   "metadata": {},
   "outputs": [],
   "source": []
  }
 ],
 "metadata": {
  "kernelspec": {
   "display_name": "Python 3",
   "language": "python",
   "name": "python3"
  },
  "language_info": {
   "codemirror_mode": {
    "name": "ipython",
    "version": 3
   },
   "file_extension": ".py",
   "mimetype": "text/x-python",
   "name": "python",
   "nbconvert_exporter": "python",
   "pygments_lexer": "ipython3",
   "version": "3.11.10"
  }
 },
 "nbformat": 4,
 "nbformat_minor": 2
}
