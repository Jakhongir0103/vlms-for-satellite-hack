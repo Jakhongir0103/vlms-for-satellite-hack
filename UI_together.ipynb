{
 "cells": [
  {
   "cell_type": "code",
   "execution_count": 1,
   "metadata": {},
   "outputs": [
    {
     "name": "stdout",
     "output_type": "stream",
     "text": [
      "* Running on local URL:  http://127.0.0.1:7925\n",
      "\n",
      "To create a public link, set `share=True` in `launch()`.\n"
     ]
    },
    {
     "data": {
      "text/html": [
       "<div><iframe src=\"http://127.0.0.1:7925/\" width=\"100%\" height=\"500\" allow=\"autoplay; camera; microphone; clipboard-read; clipboard-write;\" frameborder=\"0\" allowfullscreen></iframe></div>"
      ],
      "text/plain": [
       "<IPython.core.display.HTML object>"
      ]
     },
     "metadata": {},
     "output_type": "display_data"
    },
    {
     "data": {
      "text/plain": []
     },
     "execution_count": 1,
     "metadata": {},
     "output_type": "execute_result"
    }
   ],
   "source": [
    "import os\n",
    "from pathlib import Path\n",
    "import base64\n",
    "import gradio as gr\n",
    "\n",
    "# Specify your folder containing the images\n",
    "image_folder = \"img/\"\n",
    "\n",
    "# Load image file paths\n",
    "image_paths = sorted(Path(image_folder).glob(\"*.png\")) + sorted(Path(image_folder).glob(\"*.jpg\"))\n",
    "image_data = [(index, str(path)) for index, path in enumerate(image_paths)]\n",
    "\n",
    "# CSS to style the layout\n",
    "css_style = \"\"\"\n",
    ".container {\n",
    "    display: flex;\n",
    "    flex-direction: column;\n",
    "    align-items: center;\n",
    "    margin: 20px auto;\n",
    "}\n",
    ".row {\n",
    "    display: flex;\n",
    "    flex-direction: row;\n",
    "    align-items: center;\n",
    "    width: 80%;\n",
    "    margin-bottom: 10px;\n",
    "    border: 1px solid #ccc;\n",
    "    padding: 10px;\n",
    "    border-radius: 5px;\n",
    "    box-shadow: 2px 2px 5px rgba(0, 0, 0, 0.1);\n",
    "}\n",
    ".index {\n",
    "    flex: 1;\n",
    "    text-align: center;\n",
    "    font-weight: bold;\n",
    "    color: #333;\n",
    "}\n",
    ".image {\n",
    "    flex: 3;\n",
    "    text-align: center;\n",
    "}\n",
    "img {\n",
    "    max-width: 100%;\n",
    "    height: auto;\n",
    "    border-radius: 5px;\n",
    "}\n",
    "\"\"\"\n",
    "\n",
    "# Function to generate HTML content for images\n",
    "def display_images():\n",
    "    html_content = '<div class=\"container\">'\n",
    "    for index, image_path in image_data:\n",
    "        with open(image_path, \"rb\") as img_file:\n",
    "            base64_image = base64.b64encode(img_file.read()).decode(\"utf-8\")\n",
    "            html_content += f\"\"\"\n",
    "            <div class=\"row\">\n",
    "                <div class=\"index\">{index}</div>\n",
    "                <div class=\"image\"><img src=\"data:image/png;base64,{base64_image}\" alt=\"Image {index}\"></div>\n",
    "            </div>\n",
    "            \"\"\"\n",
    "    html_content += \"</div>\"\n",
    "    return html_content\n",
    "\n",
    "# Create the Gradio app\n",
    "with gr.Blocks(css=css_style) as demo:\n",
    "    gr.Markdown(\"# Image Viewer\")\n",
    "    gr.Markdown(\"Click the button below to load images.\")\n",
    "    \n",
    "    # Add an empty HTML element\n",
    "    output = gr.HTML(value=\"\")\n",
    "\n",
    "    # Add a button to load images\n",
    "    load_button = gr.Button(\"Load Images\")\n",
    "\n",
    "    # Update the HTML content when the button is pressed\n",
    "    load_button.click(display_images, inputs=[], outputs=output)\n",
    "\n",
    "# Run the app\n",
    "demo.launch()\n"
   ]
  },
  {
   "cell_type": "code",
   "execution_count": null,
   "metadata": {},
   "outputs": [],
   "source": []
  }
 ],
 "metadata": {
  "kernelspec": {
   "display_name": "ada",
   "language": "python",
   "name": "python3"
  },
  "language_info": {
   "codemirror_mode": {
    "name": "ipython",
    "version": 3
   },
   "file_extension": ".py",
   "mimetype": "text/x-python",
   "name": "python",
   "nbconvert_exporter": "python",
   "pygments_lexer": "ipython3",
   "version": "3.11.9"
  }
 },
 "nbformat": 4,
 "nbformat_minor": 2
}
