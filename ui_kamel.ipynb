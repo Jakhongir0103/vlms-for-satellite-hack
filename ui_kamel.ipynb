{
 "cells": [
  {
   "cell_type": "code",
   "execution_count": 1,
   "metadata": {},
   "outputs": [],
   "source": [
    "from location import Location\n",
    "port_location = Location(name='Tweede Maasvlakte, Netherlands', tiles=None, examples=[(1, 5), (2, 6), (4, 10)], meters_per_pixel=0.5)\n",
    "port_location.load()"
   ]
  },
  {
   "cell_type": "code",
   "execution_count": 7,
   "metadata": {},
   "outputs": [],
   "source": [
    "port_location.tiles[(1, 5)].show()"
   ]
  },
  {
   "cell_type": "code",
   "execution_count": null,
   "metadata": {},
   "outputs": [
    {
     "name": "stderr",
     "output_type": "stream",
     "text": [
      "c:\\Users\\Charaf Kamel\\.conda\\envs\\ada\\Lib\\site-packages\\gradio\\components\\chatbot.py:237: UserWarning: You have not specified a value for the `type` parameter. Defaulting to the 'tuples' format for chatbot messages, but this is deprecated and will be removed in a future version of Gradio. Please set type='messages' instead, which uses openai-style dictionaries with 'role' and 'content' keys.\n",
      "  warnings.warn(\n",
      "c:\\Users\\Charaf Kamel\\.conda\\envs\\ada\\Lib\\site-packages\\gradio\\chat_interface.py:214: UserWarning: The type of the chatbot does not match the type of the chat interface. The type of the chat interface will be used.Recieved type of chatbot: {chatbot.type}, type of chat interface: {self.type}\n",
      "  warnings.warn(\n",
      "c:\\Users\\Charaf Kamel\\.conda\\envs\\ada\\Lib\\site-packages\\gradio\\utils.py:999: UserWarning: Expected 3 arguments for function <function chat_response at 0x00000245A5CC04A0>, received 2.\n",
      "  warnings.warn(\n",
      "c:\\Users\\Charaf Kamel\\.conda\\envs\\ada\\Lib\\site-packages\\gradio\\utils.py:1003: UserWarning: Expected at least 3 arguments for function <function chat_response at 0x00000245A5CC04A0>, received 2.\n",
      "  warnings.warn(\n"
     ]
    },
    {
     "name": "stdout",
     "output_type": "stream",
     "text": [
      "* Running on local URL:  http://127.0.0.1:7861\n",
      "\n",
      "To create a public link, set `share=True` in `launch()`.\n"
     ]
    },
    {
     "data": {
      "text/html": [
       "<div><iframe src=\"http://127.0.0.1:7861/\" width=\"100%\" height=\"500\" allow=\"autoplay; camera; microphone; clipboard-read; clipboard-write;\" frameborder=\"0\" allowfullscreen></iframe></div>"
      ],
      "text/plain": [
       "<IPython.core.display.HTML object>"
      ]
     },
     "metadata": {},
     "output_type": "display_data"
    },
    {
     "data": {
      "text/plain": []
     },
     "execution_count": 9,
     "metadata": {},
     "output_type": "execute_result"
    }
   ],
   "source": [
    "import gradio as gr\n",
    "import numpy as np\n",
    "\n",
    "# Pre-built image data\n",
    "image_data = {\n",
    "    \"Sunset\": port_location.tiles[(1, 5)],\n",
    "    \"Mountain\": port_location.tiles[(2, 6)],\n",
    "    \"Forest\": port_location.tiles[(3, 9)],\n",
    "    \"Ocean\": port_location.tiles[(4, 10)]\n",
    "}\n",
    "\n",
    "\n",
    "## Define the chat response function\n",
    "def chat_response(message, history, selected_image):\n",
    "    if not selected_image:\n",
    "        return \"Please select an image first.\"\n",
    "    return f\"Response: {message}\"\n",
    "\n",
    "\n",
    "## Define the image display function\n",
    "def display_image(selected_image):\n",
    "\n",
    "    return image_data[selected_image]\n",
    "\n",
    "with gr.Blocks() as demo:\n",
    "    with gr.Row():\n",
    "        # Left column\n",
    "        with gr.Column(scale=1):\n",
    "            gr.Markdown(\"## Chat Interface\")\n",
    "            gr.ChatInterface(\n",
    "                chat_response,\n",
    "                type=\"messages\",\n",
    "                chatbot=gr.Chatbot(label=\"Chat\", height=300),\n",
    "                textbox=gr.Textbox(placeholder=\"Type your message...\", label=\"Chat Input\"),\n",
    "            )\n",
    "        \n",
    "        # Right column\n",
    "        with gr.Column(scale=1):\n",
    "            with gr.Row():\n",
    "                dropdown = gr.Dropdown(\n",
    "                    choices=list(image_data.keys()),\n",
    "                    label=\"Select an Image\"\n",
    "                )\n",
    "                # Link dropdown to image display\n",
    "            with gr.Row():\n",
    "                image_display = gr.Image(label=\"Selected Image\", interactive=False)\n",
    "            dropdown.change(display_image, inputs=dropdown, outputs=image_display)\n",
    "\n",
    "demo.launch()\n"
   ]
  },
  {
   "cell_type": "code",
   "execution_count": null,
   "metadata": {},
   "outputs": [],
   "source": []
  },
  {
   "cell_type": "code",
   "execution_count": 27,
   "metadata": {},
   "outputs": [
    {
     "name": "stderr",
     "output_type": "stream",
     "text": [
      "c:\\Users\\Charaf Kamel\\.conda\\envs\\ada\\Lib\\site-packages\\gradio\\components\\chatbot.py:237: UserWarning: You have not specified a value for the `type` parameter. Defaulting to the 'tuples' format for chatbot messages, but this is deprecated and will be removed in a future version of Gradio. Please set type='messages' instead, which uses openai-style dictionaries with 'role' and 'content' keys.\n",
      "  warnings.warn(\n",
      "c:\\Users\\Charaf Kamel\\.conda\\envs\\ada\\Lib\\site-packages\\gradio\\chat_interface.py:214: UserWarning: The type of the chatbot does not match the type of the chat interface. The type of the chat interface will be used.Recieved type of chatbot: {chatbot.type}, type of chat interface: {self.type}\n",
      "  warnings.warn(\n",
      "c:\\Users\\Charaf Kamel\\.conda\\envs\\ada\\Lib\\site-packages\\gradio\\utils.py:999: UserWarning: Expected 3 arguments for function <function chat_response at 0x00000245ADB8BB00>, received 2.\n",
      "  warnings.warn(\n",
      "c:\\Users\\Charaf Kamel\\.conda\\envs\\ada\\Lib\\site-packages\\gradio\\utils.py:1003: UserWarning: Expected at least 3 arguments for function <function chat_response at 0x00000245ADB8BB00>, received 2.\n",
      "  warnings.warn(\n",
      "c:\\Users\\Charaf Kamel\\.conda\\envs\\ada\\Lib\\site-packages\\gradio\\utils.py:999: UserWarning: Expected 3 arguments for function <function chat_response at 0x00000245AD937420>, received 2.\n",
      "  warnings.warn(\n",
      "c:\\Users\\Charaf Kamel\\.conda\\envs\\ada\\Lib\\site-packages\\gradio\\utils.py:1003: UserWarning: Expected at least 3 arguments for function <function chat_response at 0x00000245AD937420>, received 2.\n",
      "  warnings.warn(\n"
     ]
    },
    {
     "name": "stdout",
     "output_type": "stream",
     "text": [
      "* Running on local URL:  http://127.0.0.1:7876\n",
      "\n",
      "To create a public link, set `share=True` in `launch()`.\n"
     ]
    },
    {
     "data": {
      "text/html": [
       "<div><iframe src=\"http://127.0.0.1:7876/\" width=\"100%\" height=\"500\" allow=\"autoplay; camera; microphone; clipboard-read; clipboard-write;\" frameborder=\"0\" allowfullscreen></iframe></div>"
      ],
      "text/plain": [
       "<IPython.core.display.HTML object>"
      ]
     },
     "metadata": {},
     "output_type": "display_data"
    },
    {
     "data": {
      "text/plain": []
     },
     "execution_count": 27,
     "metadata": {},
     "output_type": "execute_result"
    },
    {
     "name": "stderr",
     "output_type": "stream",
     "text": [
      "c:\\Users\\Charaf Kamel\\.conda\\envs\\ada\\Lib\\site-packages\\gradio\\helpers.py:1021: UserWarning: Unexpected argument. Filling with None.\n",
      "  warnings.warn(\"Unexpected argument. Filling with None.\")\n"
     ]
    }
   ],
   "source": [
    "import gradio as gr\n",
    "\n",
    "# Pre-built image data\n",
    "image_data = {\n",
    "    \"Sunset\": port_location.tiles[(1, 5)],\n",
    "    \"Mountain\": port_location.tiles[(2, 6)],\n",
    "    \"Forest\": port_location.tiles[(3, 9)],\n",
    "    \"Ocean\": port_location.tiles[(4, 10)]\n",
    "}\n",
    "\n",
    "# Chat response function\n",
    "def chat_response(selected_image, message, history):\n",
    "    # Append the new message and response to the history\n",
    "    history = []\n",
    "    history.append({\"role\": \"user\", \"content\": message})\n",
    "    response = f\"Processing '{message}' with image '{selected_image}'\"\n",
    "    history.append({\"role\": \"assistant\", \"content\": response})\n",
    "    return history\n",
    "\n",
    "\n",
    "# Function to display selected image\n",
    "def display_image(selected_image):\n",
    "    return image_data[selected_image]\n",
    "\n",
    "# Function to enable/disable the Send button\n",
    "def toggle_send_button(message, selected_image):\n",
    "    return bool(message and selected_image)\n",
    "\n",
    "with gr.Blocks() as demo:\n",
    "    with gr.Row():\n",
    "        # Right column with dropdown and image display\n",
    "        with gr.Column(scale=1):\n",
    "            gr.Markdown(\"## Image Selector\")\n",
    "            dropdown = gr.Dropdown(\n",
    "                choices=list(image_data.keys()),\n",
    "                label=\"Select an Image\"\n",
    "            )\n",
    "            image_display = gr.Image(label=\"Selected Image\", interactive=False)\n",
    "\n",
    "            dropdown.change(display_image, inputs=dropdown, outputs=image_display)\n",
    "\n",
    "        # Left column with ChatInterface and Submit button\n",
    "        with gr.Column(scale=1):\n",
    "            gr.Markdown(\"## Chat Interface\")\n",
    "            chatinterface = gr.ChatInterface(\n",
    "                chat_response,\n",
    "                type=\"messages\",\n",
    "                chatbot=gr.Chatbot(label=\"Chat\", height=300),\n",
    "                textbox=gr.Textbox(placeholder=\"Type your message...\", label=\"Chat Input\"),\n",
    "            )\n",
    "            send_button = gr.Button(\"Send\", interactive=True)\n",
    "            result_output = gr.Textbox(label=\"Result\", interactive=False)\n",
    "\n",
    "\n",
    "            # Check if both inputs are filled and enable the button\n",
    "            inputs = [chatinterface.textbox, dropdown]\n",
    "            chatinterface.textbox.change(toggle_send_button, inputs=inputs, outputs=send_button)\n",
    "            dropdown.change(toggle_send_button, inputs=inputs, outputs=send_button)\n",
    "\n",
    "            # Connect the send button to the chat logic\n",
    "            send_button.click(\n",
    "                chat_response,\n",
    "                inputs=[chatinterface.textbox, dropdown],\n",
    "                outputs=chatinterface.chatbot,\n",
    "            )\n",
    "\n",
    "demo.launch()\n"
   ]
  },
  {
   "cell_type": "code",
   "execution_count": null,
   "metadata": {},
   "outputs": [],
   "source": [
    "import gradio as gr\n",
    "\n",
    "# Pre-built image data\n",
    "image_data = {\n",
    "    \"Sunset\": \"https://via.placeholder.com/300x200.png?text=Sunset\",\n",
    "    \"Mountain\": \"https://via.placeholder.com/300x200.png?text=Mountain\",\n",
    "    \"Forest\": \"https://via.placeholder.com/300x200.png?text=Forest\",\n",
    "    \"Ocean\": \"https://via.placeholder.com/300x200.png?text=Ocean\",\n",
    "}\n",
    "\n",
    "# Function to display selected image\n",
    "def display_image(selected_image):\n",
    "    return image_data[selected_image]\n",
    "\n",
    "# Function to process text and image\n",
    "def print_text_and_image(selected_image, message):\n",
    "    print(f\"Text: {message}\")\n",
    "    print(f\"Image: {selected_image}\")\n",
    "    return f\"Text: {message}\\nImage: {selected_image}\"\n",
    "\n",
    "# Function to enable/disable the Send button\n",
    "def toggle_send_button(message, selected_image):\n",
    "    return bool(message and selected_image)  # Enable if both are valid\n",
    "\n",
    "with gr.Blocks() as demo:\n",
    "    with gr.Row():\n",
    "        # Right column with image selection\n",
    "        with gr.Column(scale=1):\n",
    "            gr.Markdown(\"## Image Selector\")\n",
    "            dropdown = gr.Dropdown(\n",
    "                choices=list(image_data.keys()),\n",
    "                label=\"Select an Image\"\n",
    "            )\n",
    "            image_display = gr.Image(label=\"Selected Image\", interactive=False)\n",
    "\n",
    "            dropdown.change(display_image, inputs=dropdown, outputs=image_display)\n",
    "\n",
    "        # Left column with ChatInterface and Send button\n",
    "        with gr.Column(scale=1):\n",
    "            gr.Markdown(\"## Chat Interface\")\n",
    "            chatbot = gr.Chatbot(label=\"Chat\", height=300)\n",
    "            textbox = gr.Textbox(placeholder=\"Type your message...\", label=\"Chat Input\")\n",
    "            send_button = gr.Button(\"Send\", interactive=False)\n",
    "            result_output = gr.Textbox(label=\"Result\", interactive=False)\n",
    "\n",
    "            # Dynamically enable/disable the send button\n",
    "            inputs = [textbox, dropdown]\n",
    "            textbox.change(toggle_send_button, inputs=inputs, outputs=send_button.interactive)\n",
    "            dropdown.change(toggle_send_button, inputs=inputs, outputs=send_button.interactive)\n",
    "\n",
    "            # Custom send button logic\n",
    "            send_button.click(\n",
    "                print_text_and_image,  # Call the function that prints the values\n",
    "                inputs=[dropdown, textbox],  # Pass image and text inputs\n",
    "                outputs=result_output,  # Display the result in the output Textbox\n",
    "            )\n",
    "\n",
    "demo.launch()\n"
   ]
  },
  {
   "cell_type": "code",
   "execution_count": null,
   "metadata": {},
   "outputs": [],
   "source": []
  },
  {
   "cell_type": "code",
   "execution_count": null,
   "metadata": {},
   "outputs": [],
   "source": []
  },
  {
   "cell_type": "code",
   "execution_count": null,
   "metadata": {},
   "outputs": [],
   "source": []
  },
  {
   "cell_type": "code",
   "execution_count": null,
   "metadata": {},
   "outputs": [],
   "source": []
  },
  {
   "cell_type": "code",
   "execution_count": null,
   "metadata": {},
   "outputs": [],
   "source": []
  },
  {
   "cell_type": "code",
   "execution_count": null,
   "metadata": {},
   "outputs": [],
   "source": []
  },
  {
   "cell_type": "code",
   "execution_count": null,
   "metadata": {},
   "outputs": [],
   "source": []
  },
  {
   "cell_type": "code",
   "execution_count": null,
   "metadata": {},
   "outputs": [],
   "source": []
  },
  {
   "cell_type": "code",
   "execution_count": null,
   "metadata": {},
   "outputs": [],
   "source": []
  },
  {
   "cell_type": "code",
   "execution_count": null,
   "metadata": {},
   "outputs": [],
   "source": []
  },
  {
   "cell_type": "code",
   "execution_count": null,
   "metadata": {},
   "outputs": [],
   "source": []
  },
  {
   "cell_type": "code",
   "execution_count": null,
   "metadata": {},
   "outputs": [],
   "source": []
  },
  {
   "cell_type": "code",
   "execution_count": null,
   "metadata": {},
   "outputs": [],
   "source": []
  },
  {
   "cell_type": "code",
   "execution_count": null,
   "metadata": {},
   "outputs": [],
   "source": []
  },
  {
   "cell_type": "code",
   "execution_count": null,
   "metadata": {},
   "outputs": [],
   "source": [
    "import requests\n",
    "from PIL import Image\n",
    "from io import BytesIO\n",
    "\n",
    "def fetch_google_maps_image(api_key, center, zoom, size=(640, 640), map_type=\"roadmap\"):\n",
    "    \"\"\"\n",
    "    Fetches an image from Google Maps Static API.\n",
    "    \n",
    "    Args:\n",
    "        api_key (str): Your Google Maps API key.\n",
    "        center (str): The location to center the map on (e.g., \"Lausanne,CH\" or \"46.5191,6.6323\").\n",
    "        zoom (int): The zoom level (1 to 21; higher numbers zoom in more).\n",
    "        size (tuple): Image dimensions (width, height), max 640x640 for free tier.\n",
    "        map_type (str): The type of map: \"roadmap\", \"satellite\", \"terrain\", \"hybrid\".\n",
    "    \n",
    "    Returns:\n",
    "        Image object: A PIL Image object of the map.\n",
    "    \"\"\"\n",
    "    base_url = \"https://maps.googleapis.com/maps/api/staticmap\"\n",
    "    params = {\n",
    "        \"center\": center,\n",
    "        \"zoom\": zoom,\n",
    "        \"size\": f\"{size[0]}x{size[1]}\",\n",
    "        \"maptype\": map_type,\n",
    "        \"key\": api_key\n",
    "    }\n",
    "    \n",
    "    response = requests.get(base_url, params=params)\n",
    "    if response.status_code == 200:\n",
    "        image = Image.open(BytesIO(response.content))\n",
    "        return image\n",
    "    else:\n",
    "        raise Exception(f\"Error fetching image: {response.status_code}, {response.text}\")\n",
    "\n",
    "# Example usage:\n",
    "api_key = \"YOUR_GOOGLE_MAPS_API_KEY\"  # Replace with your actual API key\n",
    "center = \"Lausanne,CH\"  # Example: latitude and longitude or a place name\n",
    "zoom = 15  # Zoom level (higher means closer)\n",
    "size = (640, 640)  # Max size for free tier\n",
    "map_type = \"roadmap\"  # Options: \"roadmap\", \"satellite\", \"terrain\", \"hybrid\"\n",
    "\n",
    "try:\n",
    "    map_image = fetch_google_maps_image(api_key, center, zoom, size, map_type)\n",
    "    map_image.show()  # Opens the image in the default viewer\n",
    "    map_image.save(\"map_image.png\")  # Save the image locally\n",
    "except Exception as e:\n",
    "    print(str(e))\n"
   ]
  }
 ],
 "metadata": {
  "kernelspec": {
   "display_name": "ada",
   "language": "python",
   "name": "python3"
  },
  "language_info": {
   "codemirror_mode": {
    "name": "ipython",
    "version": 3
   },
   "file_extension": ".py",
   "mimetype": "text/x-python",
   "name": "python",
   "nbconvert_exporter": "python",
   "pygments_lexer": "ipython3",
   "version": "3.11.9"
  }
 },
 "nbformat": 4,
 "nbformat_minor": 2
}
